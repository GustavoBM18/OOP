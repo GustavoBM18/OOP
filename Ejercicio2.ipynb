{
 "cells": [
  {
   "cell_type": "markdown",
   "metadata": {},
   "source": [
    "<img src=\"Diagramas_clases/02_herencia.png\" alt=\"EX 1\" width=\"500\">"
   ]
  },
  {
   "cell_type": "code",
   "execution_count": 2,
   "metadata": {},
   "outputs": [],
   "source": [
    "class animal:\n",
    "    def eat(self):\n",
    "        print(f' Jummy Jummy! estoy comiendo')\n",
    "\n",
    "class Cat(animal):\n",
    "    def meow(self):\n",
    "        print('Soy un gato y hago miau')\n",
    "\n",
    "class Dog(animal):\n",
    "    def bark(self):\n",
    "        print('Como gritan los ñeros, guaf guaf')"
   ]
  },
  {
   "cell_type": "code",
   "execution_count": 3,
   "metadata": {},
   "outputs": [
    {
     "name": "stdout",
     "output_type": "stream",
     "text": [
      "Como gritan los ñeros, guaf guaf\n",
      " Jummy Jummy! estoy comiendo\n",
      "Soy un gato y hago miau\n",
      " Jummy Jummy! estoy comiendo\n"
     ]
    }
   ],
   "source": [
    "Solo_Vino = Dog()\n",
    "Solo_Vino.bark()\n",
    "Solo_Vino.eat() \n",
    "Felix = Cat()\n",
    "Felix.meow()\n",
    "Felix.eat()"
   ]
  }
 ],
 "metadata": {
  "kernelspec": {
   "display_name": "Python 3",
   "language": "python",
   "name": "python3"
  },
  "language_info": {
   "codemirror_mode": {
    "name": "ipython",
    "version": 3
   },
   "file_extension": ".py",
   "mimetype": "text/x-python",
   "name": "python",
   "nbconvert_exporter": "python",
   "pygments_lexer": "ipython3",
   "version": "3.12.4"
  }
 },
 "nbformat": 4,
 "nbformat_minor": 2
}
