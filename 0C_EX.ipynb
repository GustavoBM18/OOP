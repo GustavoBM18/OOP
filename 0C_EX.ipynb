{
 "cells": [
  {
   "cell_type": "markdown",
   "metadata": {},
   "source": [
    "<img src=\"Diagramas_clases/Ejercicio_6.jpg\" alt=\"EX 1\" width=\"500\">"
   ]
  },
  {
   "cell_type": "markdown",
   "metadata": {},
   "source": [
    "## Clase Employe\n",
    "- **int id**: Atributo de instancia.Identifica de manera unica cada instancia de 'Employee'.\n",
    "- **int new_id**: Atributo de clase.Identificar unico.\n",
    "- **void say_id**: Imprime \"Mi id es. {self.id}.\n",
    "\n",
    "## Clase user\n",
    "- **str role**: Atributo de instancia. Funcion la instancia de \"User\" P.ej.\n",
    "    - Administadr\n",
    "    - Manager\n",
    "    - Usuario\n",
    "- **str username**: Atributo de instancia. Nombre del ususario.\n",
    "- **void say_user_info()**: Imprime \"Mi nombre es {user.name} y soy {self.role}\".\n",
    "\n",
    "## Clase Admin \n",
    "- **void say_id()**: Imprime:\n",
    "    - \"Mi id es {self.id}\n",
    "    - \"Soy un Adeministrador  \\(0-0)/\n",
    "\n",
    "## Clase Manager\n",
    "- void say_id(): Imprime:\n",
    "  - Mi id es {self_id}.\n",
    "  - Soy un administrador \\(o-o)/\n",
    "  - Estoy al mando"
   ]
  },
  {
   "cell_type": "code",
   "execution_count": null,
   "metadata": {},
   "outputs": [],
   "source": [
    "class Employe:\n",
    "    new_id = 1\n",
    "    \n",
    "    def "
   ]
  }
 ],
 "metadata": {
  "kernelspec": {
   "display_name": "Python 3",
   "language": "python",
   "name": "python3"
  },
  "language_info": {
   "name": "python",
   "version": "3.12.4"
  }
 },
 "nbformat": 4,
 "nbformat_minor": 2
}
