{
 "cells": [
  {
   "cell_type": "markdown",
   "metadata": {},
   "source": [
    "<img src=\"Diagramas_clases/01_create_class.png\" alt=\"EX 1\" width=\"500\">"
   ]
  },
  {
   "cell_type": "code",
   "execution_count": 1,
   "metadata": {},
   "outputs": [],
   "source": [
    "class Employee:\n",
    "    new_id = 1\n",
    "    \n",
    "    def __init__(self, name):\n",
    "        self.id = Employee.new_id\n",
    "        Employee.new_id += 1    \n",
    "\n",
    "    def say_id(self): \n",
    "        print(f'Mi id es: {self.id}')"
   ]
  },
  {
   "cell_type": "code",
   "execution_count": 2,
   "metadata": {},
   "outputs": [
    {
     "name": "stdout",
     "output_type": "stream",
     "text": [
      "Mi id es: 1\n",
      "Mi id es: 2\n"
     ]
    }
   ],
   "source": [
    "Asael_Luces = Employee(\"Asael\")\n",
    "Citlali_traidora = Employee(\"Citlali\")\n",
    "\n",
    "Asael_Luces.say_id()                \n",
    "Citlali_traidora.say_id()"
   ]
  }
 ],
 "metadata": {
  "kernelspec": {
   "display_name": "Python 3",
   "language": "python",
   "name": "python3"
  },
  "language_info": {
   "codemirror_mode": {
    "name": "ipython",
    "version": 3
   },
   "file_extension": ".py",
   "mimetype": "text/x-python",
   "name": "python",
   "nbconvert_exporter": "python",
   "pygments_lexer": "ipython3",
   "version": "3.12.4"
  }
 },
 "nbformat": 4,
 "nbformat_minor": 2
}
