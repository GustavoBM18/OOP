{
 "cells": [
  {
   "cell_type": "markdown",
   "metadata": {},
   "source": [
    "<img src=\"Diagramas_clases/04_overrinding.png\" alt=\"EX 1\" width=\"500\">"
   ]
  },
  {
   "cell_type": "code",
   "execution_count": 8,
   "metadata": {},
   "outputs": [],
   "source": [
    "class animal:\n",
    "    def __init__(self, name):\n",
    "        self.name = name\n",
    "\n",
    "    def eat(self):\n",
    "        print(f' Jummy Jummy! estoy comiendo')\n",
    "\n",
    "    def make_noise(self):\n",
    "        print(f'{self.name} hago Grrr')    \n",
    "\n",
    "class Cat(animal):\n",
    "    def meow(self):\n",
    "        print('Soy un gato y hago miau')\n",
    "    def make_noise(self):\n",
    "        print(f'{self.name} hago Prrr')   \n",
    "\n",
    "class Dog(animal):\n",
    "    def bark(self):\n",
    "        print('Soy perro y hago gua gua')"
   ]
  },
  {
   "cell_type": "code",
   "execution_count": 6,
   "metadata": {},
   "outputs": [
    {
     "name": "stdout",
     "output_type": "stream",
     "text": [
      "Soy un gato y hago miau\n",
      " Jummy Jummy! estoy comiendo\n",
      "Kitty hago Prrr\n",
      "Negro hago Grrr\n",
      "Soy perro y hago gua gua\n",
      " Jummy Jummy! estoy comiendo\n"
     ]
    }
   ],
   "source": [
    "kitty = Cat(\"Kitty\")\n",
    "kitty.meow()\n",
    "kitty.eat()\n",
    "kitty.make_noise()\n",
    "\n",
    "Negro = Dog(\"Negro\")\n",
    "Negro.make_noise()\n",
    "Negro.bark()\n",
    "Negro.eat()"
   ]
  }
 ],
 "metadata": {
  "kernelspec": {
   "display_name": "Python 3",
   "language": "python",
   "name": "python3"
  },
  "language_info": {
   "codemirror_mode": {
    "name": "ipython",
    "version": 3
   },
   "file_extension": ".py",
   "mimetype": "text/x-python",
   "name": "python",
   "nbconvert_exporter": "python",
   "pygments_lexer": "ipython3",
   "version": "3.12.4"
  }
 },
 "nbformat": 4,
 "nbformat_minor": 2
}
