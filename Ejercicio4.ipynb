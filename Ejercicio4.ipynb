{
 "cells": [
  {
   "cell_type": "code",
   "execution_count": 20,
   "metadata": {},
   "outputs": [],
   "source": [
    "class animal:\n",
    "    def _init_(self, name):\n",
    "        self.name = name\n",
    "\n",
    "    def eat(self):\n",
    "        print(f' Estoy comiendo')\n",
    "\n",
    "    def make_noise(self):\n",
    "        print(f'{self.name} hago Grrr')    \n",
    "\n",
    "class Cat(animal):\n",
    "    def meow(self):\n",
    "        print('Soy un gato y hago miau')\n",
    "    def make_noise(self):\n",
    "        print(f'{self.name} hago Prrr')   \n",
    "\n",
    "class Dog(animal):\n",
    "    def bark(self):\n",
    "        print('Soy perro y hago gua gua')"
   ]
  },
  {
   "cell_type": "code",
   "execution_count": 21,
   "metadata": {},
   "outputs": [
    {
     "ename": "TypeError",
     "evalue": "Cat() takes no arguments",
     "output_type": "error",
     "traceback": [
      "\u001b[0;31m---------------------------------------------------------------------------\u001b[0m",
      "\u001b[0;31mTypeError\u001b[0m                                 Traceback (most recent call last)",
      "Cell \u001b[0;32mIn[21], line 1\u001b[0m\n\u001b[0;32m----> 1\u001b[0m kitty \u001b[38;5;241m=\u001b[39m \u001b[43mCat\u001b[49m\u001b[43m(\u001b[49m\u001b[38;5;124;43m\"\u001b[39;49m\u001b[38;5;124;43mKitty\u001b[39;49m\u001b[38;5;124;43m\"\u001b[39;49m\u001b[43m)\u001b[49m\n\u001b[1;32m      2\u001b[0m kitty\u001b[38;5;241m.\u001b[39mmeow()\n\u001b[1;32m      3\u001b[0m kitty\u001b[38;5;241m.\u001b[39meat()\n",
      "\u001b[0;31mTypeError\u001b[0m: Cat() takes no arguments"
     ]
    }
   ],
   "source": [
    "kitty = Cat(\"Kitty\")\n",
    "kitty.meow()\n",
    "kitty.eat()\n",
    "kitty.make_noise()\n",
    "\n",
    "Negro = Dog(\"Negro\")\n",
    "Negro.make_noise()\n",
    "Negro.bark()\n",
    "Negro.eat()"
   ]
  }
 ],
 "metadata": {
  "kernelspec": {
   "display_name": "Python 3",
   "language": "python",
   "name": "python3"
  },
  "language_info": {
   "codemirror_mode": {
    "name": "ipython",
    "version": 3
   },
   "file_extension": ".py",
   "mimetype": "text/x-python",
   "name": "python",
   "nbconvert_exporter": "python",
   "pygments_lexer": "ipython3",
   "version": "3.9.6"
  }
 },
 "nbformat": 4,
 "nbformat_minor": 2
}
